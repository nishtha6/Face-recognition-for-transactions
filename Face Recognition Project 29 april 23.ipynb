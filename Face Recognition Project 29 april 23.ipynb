{
 "cells": [
  {
   "cell_type": "code",
   "execution_count": 1,
   "id": "1a7d7872",
   "metadata": {},
   "outputs": [
    {
     "name": "stdout",
     "output_type": "stream",
     "text": [
      "Requirement already satisfied: opencv-python in c:\\users\\hp\\anaconda3\\lib\\site-packages (4.7.0.72)\n",
      "Requirement already satisfied: numpy>=1.17.0 in c:\\users\\hp\\anaconda3\\lib\\site-packages (from opencv-python) (1.23.5)\n"
     ]
    }
   ],
   "source": [
    "!pip install opencv-python"
   ]
  },
  {
   "cell_type": "code",
   "execution_count": 2,
   "id": "036b387e",
   "metadata": {},
   "outputs": [],
   "source": [
    "import cv2"
   ]
  },
  {
   "cell_type": "code",
   "execution_count": null,
   "id": "4c5e4f10",
   "metadata": {},
   "outputs": [],
   "source": [
    "face_cap=cv2.CascadeClassifier(\"C:/Users/HP/AppData/Local/Programs/Python/Python310/Lib/site-packages/cv2/data/haarcascade_frontalface_default.xml\")\n",
    "video_cap=cv2.VideoCapture(0)\n",
    "while True:\n",
    "    ret,video_data=video_cap.read()\n",
    "    col=cv2.cvtColor(video_data,cv2.COLOR_BGR2GRAY)\n",
    "    faces=face_cap.detectMultiScale(\n",
    "        col,\n",
    "        scaleFactor=1.1,\n",
    "        minNeighbors=5,\n",
    "        minSize=(30, 30),\n",
    "        flags=cv2.CASCADE_SCALE_IMAGE\n",
    "    )\n",
    "    for (x,y,w,h) in faces:\n",
    "        cv2.rectangle(video_data,(x,y),(x+w,y+h),(0,255,0),2)\n",
    "    cv2.imshow(\"video_live\",video_data)\n",
    "    if cv2.waitKey(10)==ord(\"a\"):\n",
    "        break\n",
    "video_cap.release()"
   ]
  },
  {
   "cell_type": "code",
   "execution_count": null,
   "id": "d74de060",
   "metadata": {},
   "outputs": [],
   "source": [
    "video_cap=cv2.VideoCapture(0)\n",
    "while True:\n",
    "    ret,video_data=video_cap.read()\n",
    "    cv2.imshow(\"video_live\",video_data)\n",
    "    if cv2.waitKey(10)==ord(\"a\"):\n",
    "        break\n",
    "video_cap.release()"
   ]
  },
  {
   "cell_type": "code",
   "execution_count": null,
   "id": "f7b64c12",
   "metadata": {},
   "outputs": [],
   "source": []
  }
 ],
 "metadata": {
  "kernelspec": {
   "display_name": "Python 3 (ipykernel)",
   "language": "python",
   "name": "python3"
  },
  "language_info": {
   "codemirror_mode": {
    "name": "ipython",
    "version": 3
   },
   "file_extension": ".py",
   "mimetype": "text/x-python",
   "name": "python",
   "nbconvert_exporter": "python",
   "pygments_lexer": "ipython3",
   "version": "3.10.9"
  }
 },
 "nbformat": 4,
 "nbformat_minor": 5
}
